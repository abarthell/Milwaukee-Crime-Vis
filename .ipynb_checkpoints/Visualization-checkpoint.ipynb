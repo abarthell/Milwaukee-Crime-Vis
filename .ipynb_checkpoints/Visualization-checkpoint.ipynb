{
 "cells": [
  {
   "cell_type": "markdown",
   "metadata": {},
   "source": [
    "# Milwaukee Crime Data Analysis \n",
    "## By: Anthony Barthell"
   ]
  },
  {
   "cell_type": "code",
   "execution_count": 2,
   "metadata": {},
   "outputs": [],
   "source": [
    "%matplotlib inline\n",
    "import pandas as pd\n",
    "import numpy as np\n",
    "import seaborn as sns\n",
    "import matplotlib \n",
    "import matplotlib.pyplot as plt\n",
    "from flask import Flask"
   ]
  },
  {
   "cell_type": "code",
   "execution_count": null,
   "metadata": {},
   "outputs": [],
   "source": [
    "# determining root path\n",
    "#app = Flask(__name__)"
   ]
  },
  {
   "cell_type": "code",
   "execution_count": null,
   "metadata": {},
   "outputs": [],
   "source": [
    "# routing function to root page\n",
    "#@app.route('/')\n",
    "#def index():\n",
    "#    return 'this is the homepage'"
   ]
  },
  {
   "cell_type": "code",
   "execution_count": null,
   "metadata": {},
   "outputs": [],
   "source": [
    "#if __name__ == \"__main__\":\n",
    "#    app.run(debug = False)"
   ]
  },
  {
   "cell_type": "code",
   "execution_count": 3,
   "metadata": {},
   "outputs": [],
   "source": [
    "# https://data.milwaukee.gov/dataset/wibr/resource/87843297-a6fa-46d4-ba5d-cb342fb2d3bb\n",
    "data = pd.read_csv('data.csv')"
   ]
  },
  {
   "cell_type": "code",
   "execution_count": 4,
   "metadata": {},
   "outputs": [],
   "source": [
    "tmp = data[data['ReportedDateTime'] > \"2014-00-00 00:00:00\"]"
   ]
  },
  {
   "cell_type": "code",
   "execution_count": 14,
   "metadata": {},
   "outputs": [
    {
     "data": {
      "text/html": [
       "<div>\n",
       "<style scoped>\n",
       "    .dataframe tbody tr th:only-of-type {\n",
       "        vertical-align: middle;\n",
       "    }\n",
       "\n",
       "    .dataframe tbody tr th {\n",
       "        vertical-align: top;\n",
       "    }\n",
       "\n",
       "    .dataframe thead th {\n",
       "        text-align: right;\n",
       "    }\n",
       "</style>\n",
       "<table border=\"1\" class=\"dataframe\">\n",
       "  <thead>\n",
       "    <tr style=\"text-align: right;\">\n",
       "      <th></th>\n",
       "      <th>IncidentNum</th>\n",
       "      <th>ALD</th>\n",
       "      <th>NSP</th>\n",
       "      <th>POLICE</th>\n",
       "      <th>TRACT</th>\n",
       "      <th>WARD</th>\n",
       "      <th>ZIP</th>\n",
       "      <th>RoughX</th>\n",
       "      <th>RoughY</th>\n",
       "      <th>Arson</th>\n",
       "      <th>AssaultOffense</th>\n",
       "      <th>Burglary</th>\n",
       "      <th>CriminalDamage</th>\n",
       "      <th>Homicide</th>\n",
       "      <th>LockedVehicle</th>\n",
       "      <th>Robbery</th>\n",
       "      <th>SexOffense</th>\n",
       "      <th>Theft</th>\n",
       "      <th>VehicleTheft</th>\n",
       "    </tr>\n",
       "  </thead>\n",
       "  <tbody>\n",
       "    <tr>\n",
       "      <th>count</th>\n",
       "      <td>2.134740e+05</td>\n",
       "      <td>210459.000000</td>\n",
       "      <td>128199.000000</td>\n",
       "      <td>210459.000000</td>\n",
       "      <td>210459.000000</td>\n",
       "      <td>210459.000000</td>\n",
       "      <td>210459.000000</td>\n",
       "      <td>2.104590e+05</td>\n",
       "      <td>210459.000000</td>\n",
       "      <td>213474.000000</td>\n",
       "      <td>213474.000000</td>\n",
       "      <td>213474.000000</td>\n",
       "      <td>213474.000000</td>\n",
       "      <td>213474.000000</td>\n",
       "      <td>213474.000000</td>\n",
       "      <td>213474.000000</td>\n",
       "      <td>213474.000000</td>\n",
       "      <td>213474.000000</td>\n",
       "      <td>213474.000000</td>\n",
       "    </tr>\n",
       "    <tr>\n",
       "      <th>mean</th>\n",
       "      <td>1.631422e+08</td>\n",
       "      <td>7.593018</td>\n",
       "      <td>8.881606</td>\n",
       "      <td>4.217073</td>\n",
       "      <td>25711.656646</td>\n",
       "      <td>143.674863</td>\n",
       "      <td>53212.246062</td>\n",
       "      <td>2.546790e+06</td>\n",
       "      <td>394329.227777</td>\n",
       "      <td>0.007209</td>\n",
       "      <td>0.271223</td>\n",
       "      <td>0.136921</td>\n",
       "      <td>0.099918</td>\n",
       "      <td>0.002825</td>\n",
       "      <td>0.100972</td>\n",
       "      <td>0.078736</td>\n",
       "      <td>0.022715</td>\n",
       "      <td>0.167922</td>\n",
       "      <td>0.150046</td>\n",
       "    </tr>\n",
       "    <tr>\n",
       "      <th>std</th>\n",
       "      <td>2.180572e+07</td>\n",
       "      <td>4.469272</td>\n",
       "      <td>5.587116</td>\n",
       "      <td>1.955831</td>\n",
       "      <td>60750.853606</td>\n",
       "      <td>84.796524</td>\n",
       "      <td>164.203030</td>\n",
       "      <td>1.063164e+04</td>\n",
       "      <td>17319.805113</td>\n",
       "      <td>0.084601</td>\n",
       "      <td>0.444592</td>\n",
       "      <td>0.343764</td>\n",
       "      <td>0.299892</td>\n",
       "      <td>0.053073</td>\n",
       "      <td>0.301293</td>\n",
       "      <td>0.269326</td>\n",
       "      <td>0.148993</td>\n",
       "      <td>0.373798</td>\n",
       "      <td>0.357118</td>\n",
       "    </tr>\n",
       "    <tr>\n",
       "      <th>min</th>\n",
       "      <td>1.814002e+07</td>\n",
       "      <td>0.000000</td>\n",
       "      <td>1.000000</td>\n",
       "      <td>0.000000</td>\n",
       "      <td>0.000000</td>\n",
       "      <td>0.000000</td>\n",
       "      <td>0.000000</td>\n",
       "      <td>2.516466e+06</td>\n",
       "      <td>342612.886000</td>\n",
       "      <td>0.000000</td>\n",
       "      <td>0.000000</td>\n",
       "      <td>0.000000</td>\n",
       "      <td>0.000000</td>\n",
       "      <td>0.000000</td>\n",
       "      <td>0.000000</td>\n",
       "      <td>0.000000</td>\n",
       "      <td>0.000000</td>\n",
       "      <td>0.000000</td>\n",
       "      <td>0.000000</td>\n",
       "    </tr>\n",
       "    <tr>\n",
       "      <th>25%</th>\n",
       "      <td>1.511700e+08</td>\n",
       "      <td>4.000000</td>\n",
       "      <td>4.000000</td>\n",
       "      <td>3.000000</td>\n",
       "      <td>3500.000000</td>\n",
       "      <td>69.000000</td>\n",
       "      <td>53207.000000</td>\n",
       "      <td>2.539707e+06</td>\n",
       "      <td>381701.031000</td>\n",
       "      <td>0.000000</td>\n",
       "      <td>0.000000</td>\n",
       "      <td>0.000000</td>\n",
       "      <td>0.000000</td>\n",
       "      <td>0.000000</td>\n",
       "      <td>0.000000</td>\n",
       "      <td>0.000000</td>\n",
       "      <td>0.000000</td>\n",
       "      <td>0.000000</td>\n",
       "      <td>0.000000</td>\n",
       "    </tr>\n",
       "    <tr>\n",
       "      <th>50%</th>\n",
       "      <td>1.621301e+08</td>\n",
       "      <td>7.000000</td>\n",
       "      <td>7.000000</td>\n",
       "      <td>4.000000</td>\n",
       "      <td>7900.000000</td>\n",
       "      <td>144.000000</td>\n",
       "      <td>53212.000000</td>\n",
       "      <td>2.548267e+06</td>\n",
       "      <td>395557.731000</td>\n",
       "      <td>0.000000</td>\n",
       "      <td>0.000000</td>\n",
       "      <td>0.000000</td>\n",
       "      <td>0.000000</td>\n",
       "      <td>0.000000</td>\n",
       "      <td>0.000000</td>\n",
       "      <td>0.000000</td>\n",
       "      <td>0.000000</td>\n",
       "      <td>0.000000</td>\n",
       "      <td>0.000000</td>\n",
       "    </tr>\n",
       "    <tr>\n",
       "      <th>75%</th>\n",
       "      <td>1.731900e+08</td>\n",
       "      <td>12.000000</td>\n",
       "      <td>15.000000</td>\n",
       "      <td>6.000000</td>\n",
       "      <td>16800.000000</td>\n",
       "      <td>215.000000</td>\n",
       "      <td>53218.000000</td>\n",
       "      <td>2.554707e+06</td>\n",
       "      <td>405796.483000</td>\n",
       "      <td>0.000000</td>\n",
       "      <td>1.000000</td>\n",
       "      <td>0.000000</td>\n",
       "      <td>0.000000</td>\n",
       "      <td>0.000000</td>\n",
       "      <td>0.000000</td>\n",
       "      <td>0.000000</td>\n",
       "      <td>0.000000</td>\n",
       "      <td>0.000000</td>\n",
       "      <td>0.000000</td>\n",
       "    </tr>\n",
       "    <tr>\n",
       "      <th>max</th>\n",
       "      <td>1.914600e+09</td>\n",
       "      <td>15.000000</td>\n",
       "      <td>19.000000</td>\n",
       "      <td>7.000000</td>\n",
       "      <td>980000.000000</td>\n",
       "      <td>325.000000</td>\n",
       "      <td>53295.000000</td>\n",
       "      <td>2.572051e+06</td>\n",
       "      <td>440857.993000</td>\n",
       "      <td>1.000000</td>\n",
       "      <td>1.000000</td>\n",
       "      <td>1.000000</td>\n",
       "      <td>1.000000</td>\n",
       "      <td>1.000000</td>\n",
       "      <td>1.000000</td>\n",
       "      <td>1.000000</td>\n",
       "      <td>1.000000</td>\n",
       "      <td>1.000000</td>\n",
       "      <td>1.000000</td>\n",
       "    </tr>\n",
       "  </tbody>\n",
       "</table>\n",
       "</div>"
      ],
      "text/plain": [
       "        IncidentNum            ALD            NSP         POLICE  \\\n",
       "count  2.134740e+05  210459.000000  128199.000000  210459.000000   \n",
       "mean   1.631422e+08       7.593018       8.881606       4.217073   \n",
       "std    2.180572e+07       4.469272       5.587116       1.955831   \n",
       "min    1.814002e+07       0.000000       1.000000       0.000000   \n",
       "25%    1.511700e+08       4.000000       4.000000       3.000000   \n",
       "50%    1.621301e+08       7.000000       7.000000       4.000000   \n",
       "75%    1.731900e+08      12.000000      15.000000       6.000000   \n",
       "max    1.914600e+09      15.000000      19.000000       7.000000   \n",
       "\n",
       "               TRACT           WARD            ZIP        RoughX  \\\n",
       "count  210459.000000  210459.000000  210459.000000  2.104590e+05   \n",
       "mean    25711.656646     143.674863   53212.246062  2.546790e+06   \n",
       "std     60750.853606      84.796524     164.203030  1.063164e+04   \n",
       "min         0.000000       0.000000       0.000000  2.516466e+06   \n",
       "25%      3500.000000      69.000000   53207.000000  2.539707e+06   \n",
       "50%      7900.000000     144.000000   53212.000000  2.548267e+06   \n",
       "75%     16800.000000     215.000000   53218.000000  2.554707e+06   \n",
       "max    980000.000000     325.000000   53295.000000  2.572051e+06   \n",
       "\n",
       "              RoughY          Arson  AssaultOffense       Burglary  \\\n",
       "count  210459.000000  213474.000000   213474.000000  213474.000000   \n",
       "mean   394329.227777       0.007209        0.271223       0.136921   \n",
       "std     17319.805113       0.084601        0.444592       0.343764   \n",
       "min    342612.886000       0.000000        0.000000       0.000000   \n",
       "25%    381701.031000       0.000000        0.000000       0.000000   \n",
       "50%    395557.731000       0.000000        0.000000       0.000000   \n",
       "75%    405796.483000       0.000000        1.000000       0.000000   \n",
       "max    440857.993000       1.000000        1.000000       1.000000   \n",
       "\n",
       "       CriminalDamage       Homicide  LockedVehicle        Robbery  \\\n",
       "count   213474.000000  213474.000000  213474.000000  213474.000000   \n",
       "mean         0.099918       0.002825       0.100972       0.078736   \n",
       "std          0.299892       0.053073       0.301293       0.269326   \n",
       "min          0.000000       0.000000       0.000000       0.000000   \n",
       "25%          0.000000       0.000000       0.000000       0.000000   \n",
       "50%          0.000000       0.000000       0.000000       0.000000   \n",
       "75%          0.000000       0.000000       0.000000       0.000000   \n",
       "max          1.000000       1.000000       1.000000       1.000000   \n",
       "\n",
       "          SexOffense          Theft   VehicleTheft  \n",
       "count  213474.000000  213474.000000  213474.000000  \n",
       "mean        0.022715       0.167922       0.150046  \n",
       "std         0.148993       0.373798       0.357118  \n",
       "min         0.000000       0.000000       0.000000  \n",
       "25%         0.000000       0.000000       0.000000  \n",
       "50%         0.000000       0.000000       0.000000  \n",
       "75%         0.000000       0.000000       0.000000  \n",
       "max         1.000000       1.000000       1.000000  "
      ]
     },
     "execution_count": 14,
     "metadata": {},
     "output_type": "execute_result"
    }
   ],
   "source": [
    "tmp.describe()"
   ]
  },
  {
   "cell_type": "code",
   "execution_count": null,
   "metadata": {},
   "outputs": [],
   "source": [
    "data.describe()"
   ]
  },
  {
   "cell_type": "code",
   "execution_count": 76,
   "metadata": {},
   "outputs": [],
   "source": [
    "#data"
   ]
  },
  {
   "cell_type": "markdown",
   "metadata": {},
   "source": [
    "## Total number of Incidents by Crime"
   ]
  },
  {
   "cell_type": "code",
   "execution_count": 11,
   "metadata": {},
   "outputs": [],
   "source": [
    "# Getting total number of incidents by crime\n",
    "Arson = tmp.groupby('Arson').count()['IncidentNum'][1]\n",
    "Assaults = tmp.groupby('AssaultOffense').count()['IncidentNum'][1]\n",
    "Burglary = tmp.groupby('Burglary').count()['IncidentNum'][1]\n",
    "Damage = tmp.groupby('CriminalDamage').count()['IncidentNum'][1]\n",
    "Homicide = tmp.groupby('Homicide').count()['IncidentNum'][1]\n",
    "LockedVehicle = tmp.groupby('LockedVehicle').count()['IncidentNum'][1]\n",
    "Robbery = tmp.groupby('Robbery').count()['IncidentNum'][1]\n",
    "SexOffense = tmp.groupby('SexOffense').count()['IncidentNum'][1]\n",
    "Theft = tmp.groupby('Theft').count()['IncidentNum'][1]\n",
    "VehicleTheft = tmp.groupby('VehicleTheft').count()['IncidentNum'][1]"
   ]
  },
  {
   "cell_type": "code",
   "execution_count": 72,
   "metadata": {},
   "outputs": [],
   "source": [
    "sns.set_style(\"darkgrid\")\n",
    "sns.axes_style(\"darkgrid\")"
   ]
  },
  {
   "cell_type": "code",
   "execution_count": 80,
   "metadata": {},
   "outputs": [],
   "source": [
    "# temporary dataframe to display counts\n",
    "totalCount = pd.DataFrame({'Type of Crime' : ['Arson', 'AssaultOffense', 'Burglary', 'CriminalDamage', 'Homicide',\n",
    "                                       'LockedVehicle', 'Robbery', 'SexOffense', 'Theft', 'VehicleTheft'], \n",
    "                    'Number of Incidents' : [Arson, Assaults, Burglary, Damage, Homicide, LockedVehicle, Robbery, SexOffense, \n",
    "                               Theft, VehicleTheft]})"
   ]
  },
  {
   "cell_type": "code",
   "execution_count": 81,
   "metadata": {},
   "outputs": [],
   "source": [
    "# sorting by greatest counts\n",
    "totalCount = totalCount.sort_values(['Number of Incidents']).reset_index(drop = True)"
   ]
  },
  {
   "cell_type": "code",
   "execution_count": 82,
   "metadata": {},
   "outputs": [
    {
     "data": {
      "text/plain": [
       "<seaborn.axisgrid.FacetGrid at 0x12f47f198>"
      ]
     },
     "execution_count": 82,
     "metadata": {},
     "output_type": "execute_result"
    },
    {
     "data": {
      "image/png": "[encoded data removed]",
      "text/plain": [
       "<Figure size 864x288 with 1 Axes>"
      ]
     },
     "metadata": {},
     "output_type": "display_data"
    }
   ],
   "source": [
    "# Displaying barplot of crimes\n",
    "sns.catplot(data = totalCount, x = \"Type of Crime\", y = \"Number of Incidents\", height = 4, kind =\"bar\", aspect = 3)"
   ]
  },
  {
   "cell_type": "markdown",
   "metadata": {},
   "source": [
    "## Time of Crimes"
   ]
  },
  {
   "cell_type": "code",
   "execution_count": 112,
   "metadata": {},
   "outputs": [],
   "source": [
    "# each letter represents an hour (00 to 23)\n",
    "a, b, c, d, e, f, g, h, eight, j,k,l,m,n,o,p,q,r,s,t,u,v,w,x = 0,0,0,0,0,0,0,0,0,0,0,0,0,0,0,0,0,0,0,0,0,0,0,0"
   ]
  },
  {
   "cell_type": "code",
   "execution_count": 113,
   "metadata": {},
   "outputs": [],
   "source": [
    "# getting counts of crimes in each hour (need to think of more efficient way)\n",
    "for i in range(len(tmp)):\n",
    "    if (tmp['ReportedDateTime'][i].split()[1][:2] == '00'):\n",
    "        a+=1\n",
    "    elif (tmp['ReportedDateTime'][i].split()[1][:2] == '01'):\n",
    "        b+=1\n",
    "    elif (tmp['ReportedDateTime'][i].split()[1][:2] == '02'):\n",
    "        c+=1\n",
    "    elif (tmp['ReportedDateTime'][i].split()[1][:2] == '03'):\n",
    "        d+=1\n",
    "    elif (tmp['ReportedDateTime'][i].split()[1][:2] == '04'):\n",
    "        e+=1\n",
    "    elif (tmp['ReportedDateTime'][i].split()[1][:2] == '05'):\n",
    "        f+=1\n",
    "    elif (tmp['ReportedDateTime'][i].split()[1][:2] == '06'):\n",
    "        g+=1\n",
    "    elif (tmp['ReportedDateTime'][i].split()[1][:2] == '07'):\n",
    "        h+=1\n",
    "    elif (tmp['ReportedDateTime'][i].split()[1][:2] == '08'):\n",
    "        eight+=1\n",
    "    elif (tmp['ReportedDateTime'][i].split()[1][:2] == '09'):\n",
    "        j+=1\n",
    "    elif (tmp['ReportedDateTime'][i].split()[1][:2] == '10'):\n",
    "        k+=1\n",
    "    elif (tmp['ReportedDateTime'][i].split()[1][:2] == '11'):\n",
    "        l+=1\n",
    "    elif (tmp['ReportedDateTime'][i].split()[1][:2] == '12'):\n",
    "        m+=1\n",
    "    elif (tmp['ReportedDateTime'][i].split()[1][:2] == '13'):\n",
    "        n+=1\n",
    "    elif (tmp['ReportedDateTime'][i].split()[1][:2] == '14'):\n",
    "        o+=1\n",
    "    elif (tmp['ReportedDateTime'][i].split()[1][:2] == '15'):\n",
    "        p+=1\n",
    "    elif (tmp['ReportedDateTime'][i].split()[1][:2] == '16'):\n",
    "        q+=1\n",
    "    elif (tmp['ReportedDateTime'][i].split()[1][:2] == '17'):\n",
    "        r+=1\n",
    "    elif (tmp['ReportedDateTime'][i].split()[1][:2] == '18'):\n",
    "        s+=1\n",
    "    elif (tmp['ReportedDateTime'][i].split()[1][:2] == '19'):\n",
    "        t+=1\n",
    "    elif (tmp['ReportedDateTime'][i].split()[1][:2] == '20'):\n",
    "        u+=1\n",
    "    elif (tmp['ReportedDateTime'][i].split()[1][:2] == '21'):\n",
    "        v+=1\n",
    "    elif (tmp['ReportedDateTime'][i].split()[1][:2] == '22'):\n",
    "        w+=1\n",
    "    elif (tmp['ReportedDateTime'][i].split()[1][:2] == '23'):\n",
    "        x+=1"
   ]
  },
  {
   "cell_type": "code",
   "execution_count": 104,
   "metadata": {},
   "outputs": [
    {
     "data": {
      "text/plain": [
       "'03'"
      ]
     },
     "execution_count": 104,
     "metadata": {},
     "output_type": "execute_result"
    }
   ],
   "source": [
    "tmp['ReportedDateTime'][0].split()[1][:2]"
   ]
  },
  {
   "cell_type": "code",
   "execution_count": 114,
   "metadata": {},
   "outputs": [],
   "source": [
    "hours = pd.DataFrame({'Time (military time)' : ['00', '01', '02', '03', '04','05', '06', '07', '08', '09', '10', '11', '12', '13', '14', '15',\n",
    "                                '16', '17', '18', '19', '20','21','22','23'], \n",
    "                    'Number of Incidents' : [a, b, c, d, e, f, g, h, eight, j,k,l,m,n,o,p,q,r,s,t,u,v,w,x]})\n"
   ]
  },
  {
   "cell_type": "code",
   "execution_count": 115,
   "metadata": {},
   "outputs": [
    {
     "data": {
      "text/plain": [
       "<seaborn.axisgrid.FacetGrid at 0x12d1337b8>"
      ]
     },
     "execution_count": 115,
     "metadata": {},
     "output_type": "execute_result"
    },
    {
     "data": {
      "image/png": "[encoded data removed]",
      "text/plain": [
       "<Figure size 864x288 with 1 Axes>"
      ]
     },
     "metadata": {},
     "output_type": "display_data"
    }
   ],
   "source": [
    "# Number of crimes per hour\n",
    "sns.catplot(data = hours, x = \"Time (military time)\", y = \"Number of Incidents\", height = 4, kind =\"bar\", aspect = 3)"
   ]
  },
  {
   "cell_type": "code",
   "execution_count": null,
   "metadata": {},
   "outputs": [],
   "source": []
  },
  {
   "cell_type": "code",
   "execution_count": null,
   "metadata": {},
   "outputs": [],
   "source": []
  }
 ],
 "metadata": {
  "kernelspec": {
   "display_name": "Python 3",
   "language": "python",
   "name": "python3"
  },
  "language_info": {
   "codemirror_mode": {
    "name": "ipython",
    "version": 3
   },
   "file_extension": ".py",
   "mimetype": "text/x-python",
   "name": "python",
   "nbconvert_exporter": "python",
   "pygments_lexer": "ipython3",
   "version": "3.7.2"
  }
 },
 "nbformat": 4,
 "nbformat_minor": 2
}
